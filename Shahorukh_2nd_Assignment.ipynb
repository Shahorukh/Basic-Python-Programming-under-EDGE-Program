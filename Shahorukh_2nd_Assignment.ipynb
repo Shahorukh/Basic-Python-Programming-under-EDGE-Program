{
 "cells": [
  {
   "cell_type": "markdown",
   "id": "a7e92d8c",
   "metadata": {},
   "source": [
    "# 9.You are given a number. Write a Python program to print whether it is odd or even."
   ]
  },
  {
   "cell_type": "code",
   "execution_count": 2,
   "id": "4fc616aa",
   "metadata": {},
   "outputs": [
    {
     "name": "stdout",
     "output_type": "stream",
     "text": [
      "Enter the number: 5\n",
      "5  is odd\n"
     ]
    }
   ],
   "source": [
    "n=int(input(\"Enter the number: \"))\n",
    "if n%2==0:\n",
    "    print(n,'is even')\n",
    "else: \n",
    "    print(n,\" is odd\")"
   ]
  },
  {
   "cell_type": "markdown",
   "id": "d82474d7",
   "metadata": {},
   "source": [
    "# 10. You are given three arms of a triangle. Write a Python program to find its area."
   ]
  },
  {
   "cell_type": "code",
   "execution_count": 3,
   "id": "d35fa317",
   "metadata": {},
   "outputs": [
    {
     "name": "stdout",
     "output_type": "stream",
     "text": [
      "Emter 1st arm length of the triangle: 3\n",
      "Enter 2nd arm length of triangle: 4\n",
      "Enter 3rd arm lenght of triangle: 5\n",
      "Area of the triangle =  6.0\n"
     ]
    }
   ],
   "source": [
    "import math as m\n",
    "a=int(input('Emter 1st arm length of the triangle: '))\n",
    "b=int(input('Enter 2nd arm length of triangle: '))\n",
    "c=int(input('Enter 3rd arm lenght of triangle: '))\n",
    "s=(a+b+c)/2\n",
    "area=m.sqrt(s*(s-a)*(s-b)*(s-c))\n",
    "print('Area of the triangle = ',area)"
   ]
  },
  {
   "cell_type": "markdown",
   "id": "b71f28c5",
   "metadata": {},
   "source": [
    "# 11. You are given a year. Write a Python program to print whether it is leap year or not."
   ]
  },
  {
   "cell_type": "code",
   "execution_count": 4,
   "id": "6599f4a7",
   "metadata": {},
   "outputs": [
    {
     "name": "stdout",
     "output_type": "stream",
     "text": [
      "Enter the year: 2024\n",
      "2024  is leap year!\n"
     ]
    }
   ],
   "source": [
    "yr = int(input('Enter the year: '))\n",
    "if yr%4==0 and yr%100!=0:\n",
    "    print(yr,' is leap year!')\n",
    "else:\n",
    "    if yr%400==0:\n",
    "        print(yr,' is leap year!')\n",
    "    else:\n",
    "        print(yr,' is not leap year')"
   ]
  },
  {
   "cell_type": "markdown",
   "id": "937b949a",
   "metadata": {},
   "source": [
    "# 12. You are given the coefficients a, b & c of a quadratic equation. Write a Python program to find its solution."
   ]
  },
  {
   "cell_type": "code",
   "execution_count": 9,
   "id": "48a0c324",
   "metadata": {},
   "outputs": [
    {
     "name": "stdout",
     "output_type": "stream",
     "text": [
      "Enter the coefficient of x^2: 1\n",
      "Enter the coefficient of x: -5\n",
      "Enter the constant number: 6\n",
      "Solution of the equation are x1 = 3.0 and x2 = 2.0\n"
     ]
    }
   ],
   "source": [
    "import math as m\n",
    "a = int(input('Enter the coefficient of x^2: '))\n",
    "b= int (input('Enter the coefficient of x: '))\n",
    "c=int (input('Enter the constant number: '))\n",
    "if b**2-4*a*c>=0:\n",
    "    x1=(-b+m.sqrt(b**2-4*a*c))/2*a\n",
    "    x2=(-b-m.sqrt(b**2-4*a*c))/2*a\n",
    "    print('Solution of the equation are x1 =',x1,'and x2 =',x2)\n",
    "else:\n",
    "    print('Roots are complex')\n",
    "    "
   ]
  },
  {
   "cell_type": "markdown",
   "id": "4b51c093",
   "metadata": {},
   "source": [
    "# 13. You are given the radius of a circle. Write a program to find the area of the square inscribed inside the circle."
   ]
  },
  {
   "cell_type": "code",
   "execution_count": 14,
   "id": "c8c814f4",
   "metadata": {},
   "outputs": [
    {
     "name": "stdout",
     "output_type": "stream",
     "text": [
      "Enter the radious of the circle: 5\n",
      "Area of the square inscribed in the circle is= 49.99999999999999\n"
     ]
    }
   ],
   "source": [
    "import math as m\n",
    "r= float(input('Enter the radious of the circle: '))\n",
    "#diagonal of the square is diameter of the circle\n",
    "d=2*r\n",
    "# a is the side of the square\n",
    "a=d/m.sqrt(2)\n",
    "area = a**2\n",
    "print('Area of the square inscribed in the circle is=',area)"
   ]
  },
  {
   "cell_type": "markdown",
   "id": "54d49dc5",
   "metadata": {},
   "source": [
    "# 14. You are given the mark of a student. Write a program to find his grade. [0-39: F, 40-49: E,50-59: D, 60-69: C, 70-79: B, 80-100: A]"
   ]
  },
  {
   "cell_type": "code",
   "execution_count": 19,
   "id": "62780df9",
   "metadata": {},
   "outputs": [
    {
     "name": "stdout",
     "output_type": "stream",
     "text": [
      "Enter the mark: 105\n",
      "Mark is out of the range!\n"
     ]
    }
   ],
   "source": [
    "mark = int(input('Enter the mark: '))\n",
    "if mark>79 and mark<101:\n",
    "    print('Grade = A')\n",
    "elif mark> 69 and mark<80:\n",
    "    print ( 'Grade = B')\n",
    "elif mark>59 and mark<70:\n",
    "    print('Grade = C')\n",
    "elif mark > 49 and mark < 60:\n",
    "    print('Grade = D')\n",
    "elif mark>39 and mark<50:\n",
    "    print('Grade = E')\n",
    "elif mark >=0 and mark < 40:\n",
    "    print ('Grade = F')\n",
    "else:\n",
    "    print('Mark is out of the range!')"
   ]
  },
  {
   "cell_type": "markdown",
   "id": "7aa91997",
   "metadata": {},
   "source": [
    "# 15. You are given a number. Write a program to print whether it is prime or not."
   ]
  },
  {
   "cell_type": "code",
   "execution_count": 22,
   "id": "da0e7f4e",
   "metadata": {},
   "outputs": [
    {
     "name": "stdout",
     "output_type": "stream",
     "text": [
      "Enter the number: 29\n",
      "29 is a prime number\n"
     ]
    }
   ],
   "source": [
    "n = int(input('Enter the number: '))\n",
    "count = 0\n",
    "for i in range(2,n):\n",
    "    if n%i==0:\n",
    "        count=count+1\n",
    "        break\n",
    "if count==0:\n",
    "    print (n,'is a prime number')\n",
    "else:\n",
    "    print(n,'is not a prime number')"
   ]
  },
  {
   "cell_type": "markdown",
   "id": "d6c17512",
   "metadata": {},
   "source": [
    "# 16. You are given a range defined by two integers. Write a program to print those which are leap years in the range."
   ]
  },
  {
   "cell_type": "code",
   "execution_count": 25,
   "id": "7b5a5898",
   "metadata": {},
   "outputs": [
    {
     "name": "stdout",
     "output_type": "stream",
     "text": [
      "Enter lower limit of years: 2000\n",
      "Enter upper limit of years: 2030\n",
      "[2000, 2004, 2008, 2012, 2016, 2020, 2024, 2028] are leap year\n"
     ]
    }
   ],
   "source": [
    "l=int(input('Enter lower limit of years: '))\n",
    "u=int(input('Enter upper limit of years: '))\n",
    "leap_yr=[]\n",
    "for i in range(l,u+1):\n",
    "    if i%4==0 and i%100!=0:\n",
    "        leap_yr.append(i)\n",
    "    else:\n",
    "        if i%400==0:\n",
    "            leap_yr.append(i)\n",
    "print(leap_yr,'are leap year')\n",
    "        \n",
    "        "
   ]
  },
  {
   "cell_type": "markdown",
   "id": "f08b1c3c",
   "metadata": {},
   "source": [
    "# 17. You are given a range defined by two integers. Write a program to print the prime numbers inside the range."
   ]
  },
  {
   "cell_type": "code",
   "execution_count": 35,
   "id": "77a991b3",
   "metadata": {},
   "outputs": [
    {
     "name": "stdout",
     "output_type": "stream",
     "text": [
      "Enter lower limit: 1\n",
      "Enter upper limit: 100\n",
      "[3, 5, 7, 11, 13, 17, 19, 23, 29, 31, 37, 41, 43, 47, 53, 59, 61, 67, 71, 73, 79, 83, 89, 97] are prime numbers\n",
      "24\n"
     ]
    }
   ],
   "source": [
    "l=int(input('Enter lower limit: '))\n",
    "u=int(input('Enter upper limit: '))\n",
    "prime=[]\n",
    "for i in range (l,u+1):\n",
    "    for j in range(2,i):\n",
    "        count= 0\n",
    "        if i%j==0:\n",
    "            count = count +1\n",
    "            break\n",
    "    if count ==0:\n",
    "        prime.append(i)\n",
    "print(prime,'are prime numbers')\n",
    "print(len(prime))"
   ]
  },
  {
   "cell_type": "markdown",
   "id": "e550090e",
   "metadata": {},
   "source": [
    "# 18. You will be given an integer N and then N numbers. Write a program to find the average of these numbers."
   ]
  },
  {
   "cell_type": "code",
   "execution_count": 38,
   "id": "705001d4",
   "metadata": {},
   "outputs": [
    {
     "name": "stdout",
     "output_type": "stream",
     "text": [
      "Enter the number of totall: 3\n",
      "Enter no: 10\n",
      "Enter no: 20\n",
      "Enter no: 30\n",
      "Avarege of of the numbers =  20.0\n"
     ]
    }
   ],
   "source": [
    "n=int(input('Enter the number of totall: '))\n",
    "s=0\n",
    "for i in range(n):\n",
    "    x=int(input('Enter no: '))\n",
    "    s=s+x\n",
    "    avg=s/n\n",
    "print('Avarege of of the numbers = ',avg)"
   ]
  },
  {
   "cell_type": "markdown",
   "id": "003b4352",
   "metadata": {},
   "source": [
    "# 19. Let’s assume a series as: 1+3+5+7+ ... + N. You will be given N as input. Write aprogram that can print the sum of this series up to N."
   ]
  },
  {
   "cell_type": "code",
   "execution_count": 39,
   "id": "b5bf846e",
   "metadata": {},
   "outputs": [
    {
     "name": "stdout",
     "output_type": "stream",
     "text": [
      "Enter last term of the series: 50\n",
      "Sum of the series =  625\n"
     ]
    }
   ],
   "source": [
    "s=0\n",
    "n = int(input('Enter last term of the series: '))\n",
    "for i in range(1,n+1,2):\n",
    "    s=s+i\n",
    "print('Sum of the series = ',s)"
   ]
  },
  {
   "cell_type": "markdown",
   "id": "41e5bccc",
   "metadata": {},
   "source": [
    "# 20. You are given three integers: a, b & c. Write a program to find the minimum of these three numbers."
   ]
  },
  {
   "cell_type": "code",
   "execution_count": 42,
   "id": "42d30eca",
   "metadata": {},
   "outputs": [
    {
     "name": "stdout",
     "output_type": "stream",
     "text": [
      "Enter 1st number: 10\n",
      "Enter 2nd number: 20\n",
      "Enter 3rd number: 15\n",
      "10 is minimum\n"
     ]
    }
   ],
   "source": [
    "a = int (input('Enter 1st number: '))\n",
    "b = int(input ('Enter 2nd number: '))\n",
    "c = int(input ('Enter 3rd number: '))\n",
    "if a<b and a<c:\n",
    "    print(a,'is minimum')\n",
    "elif b<c:\n",
    "    print(b,'is minimum')\n",
    "else:\n",
    "    print(c,'is minimum')"
   ]
  },
  {
   "cell_type": "markdown",
   "id": "587fc0f5",
   "metadata": {},
   "source": [
    "# 21. You will be given an integer N and then N numbers. Write a program to find the maximum value of those numbers."
   ]
  },
  {
   "cell_type": "code",
   "execution_count": 43,
   "id": "774355cf",
   "metadata": {},
   "outputs": [
    {
     "name": "stdout",
     "output_type": "stream",
     "text": [
      "Total number = 5\n",
      "Enter number: 10\n",
      "Enter number: 20\n",
      "Enter number: 15\n",
      "Enter number: 16\n",
      "Enter number: 17\n",
      "[10, 20, 15, 16, 17]\n",
      "Maximum number =  20\n"
     ]
    }
   ],
   "source": [
    "l=[]\n",
    "n=int(input('Total number = '))\n",
    "for i in range(n):\n",
    "    a=int(input('Enter number: '))\n",
    "    l.append(a)\n",
    "print(l)\n",
    "maximum=max(l)\n",
    "print('Maximum number = ',maximum)"
   ]
  },
  {
   "cell_type": "markdown",
   "id": "e2b19214",
   "metadata": {},
   "source": [
    "# 22. Write a program to swap the values of two variables."
   ]
  },
  {
   "cell_type": "code",
   "execution_count": 47,
   "id": "2e791617",
   "metadata": {},
   "outputs": [
    {
     "name": "stdout",
     "output_type": "stream",
     "text": [
      "Enter first value: 10\n",
      "Enter second value: 20\n",
      "a =  10 , b =  20\n",
      "After swaping: a =  20 , b =  10\n"
     ]
    }
   ],
   "source": [
    "a= int(input('Enter first value: '))\n",
    "b = int(input('Enter second value: '))\n",
    "print('a = ', a,', b = ',b)\n",
    "temp =a\n",
    "a=b\n",
    "b=temp\n",
    "print('After swaping: a = ',a,', b = ',b)"
   ]
  },
  {
   "cell_type": "markdown",
   "id": "0c685ccd",
   "metadata": {},
   "source": [
    "# 23. You will be given 2 3X3 matrices. Write a program to add the matrices"
   ]
  },
  {
   "cell_type": "code",
   "execution_count": 70,
   "id": "ad51a25b",
   "metadata": {},
   "outputs": [
    {
     "name": "stdout",
     "output_type": "stream",
     "text": [
      "[[11, 13, 15], [17, 19, 21], [23, 25, 27]]\n"
     ]
    }
   ],
   "source": [
    "A=[[1,2,3],\n",
    "   [4,5,6],\n",
    "   [7,8,9]]\n",
    "B=[[10,11,12],\n",
    "  [13,14,15],\n",
    "  [16,17,18]]\n",
    "C=[[0,0,0],\n",
    "   [0,0,0],\n",
    "   [0,0,0]]\n",
    "for i in range(3):\n",
    "    for j in range(3):\n",
    "        C[i][j]=A[i][j] + B[i][j]\n",
    "print(C)\n"
   ]
  },
  {
   "cell_type": "markdown",
   "id": "47512bba",
   "metadata": {},
   "source": [
    "# 24. You will be given an integer N and then N numbers. Write a program to find the mean  deviation of those numbers."
   ]
  },
  {
   "cell_type": "code",
   "execution_count": 73,
   "id": "fc20d5e0",
   "metadata": {},
   "outputs": [
    {
     "name": "stdout",
     "output_type": "stream",
     "text": [
      "Enter the number of numbers: 5\n",
      "Enter no: -10\n",
      "Enter no: -20\n",
      "Enter no: 15\n",
      "Enter no: 18\n",
      "Enter no: 30\n",
      "[-10, -20, 15, 18, 30]\n",
      "Mean =  6.6\n",
      "[16.6, 26.6, 8.4, 11.4, 23.4]\n",
      "Mean deviation =  17.28\n"
     ]
    }
   ],
   "source": [
    "n= int (input('Enter the number of numbers: '))\n",
    "num=[]\n",
    "s=0\n",
    "abs_no=[]\n",
    "abs_no_sum=0\n",
    "for i in range(n):\n",
    "    x=int(input('Enter no: '))\n",
    "    num.append(x)\n",
    "    s=s+x\n",
    "mean=s/n\n",
    "print(num)\n",
    "print('Mean = ',mean)\n",
    "for i in num:\n",
    "    y=abs(i-mean)\n",
    "    abs_no_sum=abs_no_sum+y\n",
    "    abs_no.append(y)\n",
    "print(abs_no)\n",
    "mean_dev=abs_no_sum/n\n",
    "print('Mean deviation = ',mean_dev)"
   ]
  },
  {
   "cell_type": "code",
   "execution_count": null,
   "id": "f8728e13",
   "metadata": {},
   "outputs": [],
   "source": []
  }
 ],
 "metadata": {
  "kernelspec": {
   "display_name": "Python 3 (ipykernel)",
   "language": "python",
   "name": "python3"
  },
  "language_info": {
   "codemirror_mode": {
    "name": "ipython",
    "version": 3
   },
   "file_extension": ".py",
   "mimetype": "text/x-python",
   "name": "python",
   "nbconvert_exporter": "python",
   "pygments_lexer": "ipython3",
   "version": "3.11.5"
  }
 },
 "nbformat": 4,
 "nbformat_minor": 5
}
